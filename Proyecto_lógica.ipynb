{
  "nbformat": 4,
  "nbformat_minor": 0,
  "metadata": {
    "colab": {
      "provenance": [],
      "authorship_tag": "ABX9TyN4E+jKx2qR4RQFoRzaxaDY",
      "include_colab_link": true
    },
    "kernelspec": {
      "name": "python3",
      "display_name": "Python 3"
    },
    "language_info": {
      "name": "python"
    }
  },
  "cells": [
    {
      "cell_type": "markdown",
      "metadata": {
        "id": "view-in-github",
        "colab_type": "text"
      },
      "source": [
        "<a href=\"https://colab.research.google.com/github/R4INYIS/Logic-Project/blob/main/Proyecto_l%C3%B3gica.ipynb\" target=\"_parent\"><img src=\"https://colab.research.google.com/assets/colab-badge.svg\" alt=\"Open In Colab\"/></a>"
      ]
    },
    {
      "cell_type": "markdown",
      "source": [
        "# Parte 1\n"
      ],
      "metadata": {
        "id": "FrOKsB_jDwqq"
      }
    },
    {
      "cell_type": "code",
      "execution_count": null,
      "metadata": {
        "id": "ZO4_OlK-dGJM",
        "colab": {
          "base_uri": "https://localhost:8080/"
        },
        "outputId": "74af708d-5a48-47c6-c977-21ffccb3d874"
      },
      "outputs": [
        {
          "output_type": "execute_result",
          "data": {
            "text/plain": [
              "True"
            ]
          },
          "metadata": {},
          "execution_count": 22
        }
      ],
      "source": [
        "def evaluarForma(forma: str, lista: list, asignacion: set) -> bool:\n",
        "  \"\"\"\n",
        "  Dado una fórmula y su forma, evalua si la fórmula es verdadera o falsa\n",
        "  \"\"\"\n",
        "  asignacion['Top'], asignacion['Bot'] = 1, 0\n",
        "  if forma == 'FNC':\n",
        "    for clausula in lista:\n",
        "      clausula_verdadera = None\n",
        "      for literal in clausula:\n",
        "        literal = '!' * (literal.count('!') % 2) + literal.replace('!', '')\n",
        "        if literal.startswith('!'):\n",
        "          valor_literal = not asignacion[literal[-1]]\n",
        "        else:\n",
        "          valor_literal = asignacion[literal]\n",
        "        if valor_literal == 1:\n",
        "          clausula_verdadera = True\n",
        "          break\n",
        "\n",
        "      if clausula_verdadera == None:\n",
        "        return False\n",
        "    return True\n",
        "\n",
        "  elif forma == 'FND':\n",
        "    for clausula in lista:\n",
        "      clausula_verdadera = True\n",
        "      for literal in clausula:\n",
        "        literal = '!' * (literal.count('!') % 2) + literal.replace('!', '')\n",
        "        valor_literal = not asignacion[literal[-1]] if literal.startswith('!') else asignacion[literal]\n",
        "        if valor_literal == 0:\n",
        "          clausula_verdadera = False\n",
        "          break\n",
        "      if clausula_verdadera:\n",
        "        return True\n",
        "    return False\n",
        "  else:\n",
        "    print('Elige un tipo de forma de los siguientes FNC o FND')\n",
        "\n",
        "lista = [[\"!!p\", \"!q\", \"r\" ],[\"Bot\", \"!q\"]]\n",
        "asignacion = {\"p\": 1, \"q\": 0, \"r\": 1}\n",
        "forma = 'FNC'\n",
        "evaluarForma(forma, lista, asignacion)"
      ]
    },
    {
      "cell_type": "code",
      "source": [
        "def esTautologıaFNC(lista: list) -> bool:\n",
        "  \"\"\"\n",
        "  Verifica si una lista de cláusulas en formato FNC es una tautología\n",
        "  \"\"\"\n",
        "  if len(lista) == 0:\n",
        "    return 1\n",
        "  for clausula in lista:\n",
        "    clausula_tautologia = False\n",
        "    if 'Top' in clausula:\n",
        "      continue\n",
        "    for literal in clausula:\n",
        "      literal = '!' * (literal.count('!') % 2) + literal.replace('!', '')\n",
        "      opuesto = f\"!{literal}\" if len(literal) == 1 else literal[1]\n",
        "      if opuesto in clausula:\n",
        "        clausula_tautologia = True\n",
        "        break\n",
        "    if clausula_tautologia == False:\n",
        "      return False\n",
        "  return True\n",
        "\n",
        "lista = [[\"!q\", \"!!q\", \"r\" ], [\"!r\", \"r\"]]\n",
        "esTautologıaFNC(lista)"
      ],
      "metadata": {
        "id": "6ZAnlC0VkuVr",
        "colab": {
          "base_uri": "https://localhost:8080/"
        },
        "outputId": "235d06d5-5855-4954-8a03-106daea2afa7"
      },
      "execution_count": null,
      "outputs": [
        {
          "output_type": "execute_result",
          "data": {
            "text/plain": [
              "True"
            ]
          },
          "metadata": {},
          "execution_count": 23
        }
      ]
    },
    {
      "cell_type": "markdown",
      "source": [
        "# Parte 2\n"
      ],
      "metadata": {
        "id": "TGWB2A8yyova"
      }
    },
    {
      "cell_type": "code",
      "source": [
        "conectores = ['^', '*', '>', '<'] # Orden de precedencia importa para desempates\n",
        "\n",
        "def aplicarConectores(l1: bool, l2: bool, conector: str) -> bool:\n",
        "  \"\"\"\n",
        "  Verifica el resultado de una fórmula dado un conector y dos literales\n",
        "  \"\"\"\n",
        "  if conector == '^':\n",
        "    return l1 and l2\n",
        "  elif conector == '*':\n",
        "    return l1 or l2\n",
        "  elif conector == '>':\n",
        "    return not l1 or l2\n",
        "  elif conector == '<':\n",
        "    return l1 == l2\n",
        "\n",
        "def dividirFormula(formula: str, asignacion: set = {}) -> tuple:\n",
        "  \"\"\"\n",
        "  Dada una fórmula en formato str devuelve una tupla anidada de los conectores y literales\n",
        "  \"\"\"\n",
        "  formula = formula.strip().replace(' ', '')\n",
        "  # Se verica si los paréntesis se abren y se cierra en toda la fórmula y los elimina para dejar las claúsulas limpias\n",
        "  while formula.startswith('(') and formula.endswith(')'):\n",
        "    balance = 0 # Balance de parentesis\n",
        "    encierra_todo = True\n",
        "    for char in formula[:-1]: # Eliminamos el último paréntesis, esto nos permite afirmar que si el balance es 0, hay algún elemento que no está entre paréntesis\n",
        "      if char == '(':\n",
        "        balance += 1\n",
        "      elif char == ')':\n",
        "        balance -= 1\n",
        "        if balance == 0:\n",
        "          encierra_todo = False\n",
        "          break\n",
        "    if encierra_todo:\n",
        "      formula = formula[1:-1].strip()\n",
        "    else:\n",
        "      break\n",
        "\n",
        "  balance = 0\n",
        "  indice_conector_principal = None\n",
        "  min_balance = float('inf') # Inicializamos la variable en el nivel infinito para cualquier conector presente este en una capa más alta\n",
        "\n",
        "  for i, caracter in enumerate(formula):\n",
        "    if caracter == '(':\n",
        "      balance += 1\n",
        "    elif caracter == ')':\n",
        "      balance -= 1\n",
        "    elif caracter in conectores:\n",
        "      if balance < min_balance: # Si el conector esta dentro de menos paréntesis que el anterior se vuelve el nuevo conector principal\n",
        "        min_balance = balance\n",
        "        indice_conector_principal = i\n",
        "\n",
        "      elif balance == min_balance:\n",
        "        indice_conector_anterior = conectores.index(formula[indice_conector_principal])\n",
        "        indice_actual = conectores.index(caracter)\n",
        "        if indice_actual > indice_conector_anterior: # Si el conector actual tiene mayor precedencia\n",
        "          indice_conector_principal = i\n",
        "\n",
        "  if not indice_conector_principal: # Es un literal\n",
        "    return formula.replace('(', '').replace(')', '')\n",
        "\n",
        "  conector = formula[indice_conector_principal]\n",
        "\n",
        "\n",
        "  # Repetimos el proceso recursivamente con las cláusulas interiores\n",
        "  clausula_izq = dividirFormula(formula[:indice_conector_principal])\n",
        "  clausula_der = dividirFormula(formula[indice_conector_principal + 1:])\n",
        "\n",
        "  # Se devuelve la fórmula/cláusula\n",
        "  return (clausula_izq, clausula_der, conector)\n",
        "\n",
        "def verificarFormula(formula: tuple, asignacion: set) -> bool:\n",
        "  \"\"\"\n",
        "  Verifica si dados unos valores una fórmula booleana (str) es verdadera o no\n",
        "  \"\"\"\n",
        "  if isinstance(formula, str):\n",
        "    return not asignacion[formula[-1]] if formula.startswith('!') else asignacion[formula]\n",
        "\n",
        "  clausula1 = formula[0]\n",
        "  clausula2 = formula[1]\n",
        "  conector_principal = formula[2]\n",
        "\n",
        "  if isinstance(clausula1, tuple):\n",
        "    clausula1 = verificarFormula(clausula1, asignacion)\n",
        "\n",
        "  if isinstance(clausula2, tuple):\n",
        "    clausula2 = verificarFormula(clausula2, asignacion)\n",
        "\n",
        "  if isinstance(clausula1, (str, int)) and isinstance(clausula2, (str, int)):\n",
        "    if isinstance(clausula1, str):\n",
        "      l1 = not asignacion[clausula1[-1]] if clausula1.startswith('!') else asignacion[clausula1]\n",
        "    else:\n",
        "      l1 = clausula1\n",
        "\n",
        "    if isinstance(clausula2, str):\n",
        "      l2 = not asignacion[clausula2[-1]] if clausula2.startswith('!') else asignacion[clausula2]\n",
        "    else:\n",
        "      l2 = clausula2\n",
        "    formula = aplicarConectores(l1, l2, conector_principal)\n",
        "\n",
        "\n",
        "  return formula\n",
        "\n",
        "\n",
        "def evaluarVerdad(formula: str, asignacion: set) -> bool:\n",
        "  \"\"\"\n",
        "  Verifica si dados unos valores una fórmula booleana (str) es verdadera o no\n",
        "  \"\"\"\n",
        "  formula = dividirFormula(formula)\n",
        "  valor = verificarFormula(formula, asignacion)\n",
        "\n",
        "  return bool(valor)\n",
        "\n",
        "\n",
        "\n",
        "\n",
        "formula_str = '((q) * (!(p)))'\n",
        "print(evaluarVerdad(formula_str, {'p': 1, 'q': 0}))\n",
        "\n"
      ],
      "metadata": {
        "colab": {
          "base_uri": "https://localhost:8080/"
        },
        "outputId": "2a113823-91f7-43a5-b56a-175b3f9a71a3",
        "id": "71yeV8NbN30A"
      },
      "execution_count": 7,
      "outputs": [
        {
          "output_type": "stream",
          "name": "stdout",
          "text": [
            "False\n"
          ]
        }
      ]
    },
    {
      "cell_type": "code",
      "source": [
        "def esTautologia(formula: str) -> bool:\n",
        "  \"\"\"\n",
        "  Verifica si una fórmula es una tautología o no\n",
        "  \"\"\"\n",
        "  literales = set()\n",
        "  for char in formula:\n",
        "    if char.isalpha(): # Verificamos si es una letra\n",
        "      literales.add(char)\n",
        "\n",
        "  literales = sorted(list(literales)) # Lo convertimos en un conjunto ordenado\n",
        "  len_lits = len(literales)\n",
        "\n",
        "  for i in range(2**len_lits):\n",
        "    binario = bin(i)[2:].zfill(len_lits) # Añade ceros hasta llegar a la longitud de la longitud de literales para evitar que haya menos valores que literales\n",
        "    binario = [int(x) for x in binario]\n",
        "\n",
        "    asignacion = dict(zip(literales, binario))\n",
        "    valor = evaluarVerdad(formula, asignacion)\n",
        "\n",
        "    print(f'Asignacion: {asignacion}, valor: {valor}')\n",
        "    if valor == False:\n",
        "      return False\n",
        "  return True\n",
        "\n",
        "formula_str = '(((p) * (!(p)))'\n",
        "print(esTautologia(formula_str))"
      ],
      "metadata": {
        "colab": {
          "base_uri": "https://localhost:8080/"
        },
        "id": "0_m3irbVniQd",
        "outputId": "02e79496-f387-43b8-9d5e-01fe0a8ce93c"
      },
      "execution_count": 9,
      "outputs": [
        {
          "output_type": "stream",
          "name": "stdout",
          "text": [
            "Asignacion: {'p': 0}, valor: True\n",
            "Asignacion: {'p': 1}, valor: True\n",
            "True\n"
          ]
        }
      ]
    },
    {
      "cell_type": "markdown",
      "source": [
        "# Parte 3"
      ],
      "metadata": {
        "id": "-Cfzi6FbDpbE"
      }
    },
    {
      "cell_type": "code",
      "source": [
        "def negar(literal: str):\n",
        "  \"\"\"\n",
        "  Dado un literal niega este\n",
        "  \"\"\"\n",
        "  if literal.startswith('!'):\n",
        "    return literal[1]\n",
        "  else:\n",
        "    return '!' + literal\n",
        "\n",
        "def es_tautologia(clausula: set):\n",
        "  \"\"\"\n",
        "  Verifica si una cláusula es una tautología\n",
        "  \"\"\"\n",
        "  for lit in clausula:\n",
        "    if negar(lit) in clausula:\n",
        "      return True\n",
        "  return False\n",
        "\n",
        "def resolver(clausula1: set, clausula2: set):\n",
        "  \"\"\"\n",
        "  Dadas dos cláusulas intenta conseguir la resolvente de ellas,\n",
        "  en caso de que no lo consiga o ésta sea una tautología devuelve None\n",
        "  \"\"\"\n",
        "  # Volver cláusulas mutables\n",
        "  c1 = set(clausula1)\n",
        "  c2 = set(clausula2)\n",
        "\n",
        "  for l in c1:\n",
        "    l_negado = negar(l)\n",
        "\n",
        "    if l_negado in c2:\n",
        "      c1_resto = c1 - {l}\n",
        "      c2_resto = c2 - {l_negado}\n",
        "      resolvente = c1_resto | c2_resto\n",
        "\n",
        "      if es_tautologia(resolvente):\n",
        "        return None # No añadimos tautologías\n",
        "\n",
        "      return resolvente # Realizamos este proceso una única vez para evitar eliminar más de un literal por clausula\n",
        "\n",
        "  return None\n",
        "\n",
        "def resolucion(lista: list) -> bool:\n",
        "  \"\"\"\n",
        "  Dadas una lista de cláusulas, verifica si es una contradicción mediante el método de resolución\n",
        "  \"\"\"\n",
        "  clausulas = set()\n",
        "  for clausula in lista:\n",
        "    if not es_tautologia(clausula):\n",
        "      clausulas.add(frozenset(clausula)) # Los elementos de un set deben ser inmutables\n",
        "\n",
        "  while True:\n",
        "    generadas = set() # Cláusulas generadas en cada iteración\n",
        "\n",
        "    clausulas_l = list(clausulas)\n",
        "\n",
        "    for i, c1 in enumerate(clausulas_l):\n",
        "      for c2 in clausulas_l[1+i:]:\n",
        "        resolvente = resolver(c1, c2)\n",
        "\n",
        "        if resolvente == set():\n",
        "          return True # Es una contradicción\n",
        "\n",
        "        if resolvente and frozenset(resolvente) not in clausulas:\n",
        "          generadas.add(frozenset(resolvente))\n",
        "\n",
        "    if not generadas:\n",
        "      return False # No es contradicción\n",
        "\n",
        "    clausulas.update(generadas)\n",
        "\n",
        "  return False\n",
        "\n",
        "c1 = {'p', '!u'}\n",
        "c2 = {'p'}\n",
        "c3 = {'t'}\n",
        "c4 = {'q', '!s'}\n",
        "c5 = {'s', '!r'}\n",
        "c6 = {'r', '!p'}\n",
        "c7 = {'!p', '!q', '!t'}\n",
        "%timeit resolucion([c1, c2, c3, c4, c5, c6, c7])"
      ],
      "metadata": {
        "id": "rMto76VgLvMX",
        "colab": {
          "base_uri": "https://localhost:8080/"
        },
        "outputId": "ff0e5d87-6722-49e0-9967-2e6cb1c67d54"
      },
      "execution_count": 3,
      "outputs": [
        {
          "output_type": "stream",
          "name": "stdout",
          "text": [
            "502 µs ± 17.2 µs per loop (mean ± std. dev. of 7 runs, 1000 loops each)\n"
          ]
        }
      ]
    },
    {
      "cell_type": "markdown",
      "source": [
        "# Algoritmo SLD\n"
      ],
      "metadata": {
        "id": "bsYJGP-EpPr7"
      }
    },
    {
      "cell_type": "code",
      "source": [
        "def conversor_ch(lista):\n",
        "  \"\"\"\n",
        "  Convierte una lista de conjuntos de literales (FNC) a una lista de\n",
        "  cláusulas en formato [cabeza, cuerpo] para SLD.\n",
        "  \"\"\"\n",
        "  clausulas_sld = []\n",
        "  for clausula in lista:\n",
        "    cabeza = set()\n",
        "    cuerpo = set()\n",
        "    for literal in sorted(clausula):\n",
        "      if literal.startswith('!'):\n",
        "        cuerpo.add(literal[-1])\n",
        "      else:\n",
        "        cabeza.add(literal)\n",
        "    clausulas_sld.append([list(cabeza), list(cuerpo)])\n",
        "  return clausulas_sld\n",
        "\n",
        "def resolver(clausula1, clausula2):\n",
        "\n",
        "  cabeza1, cuerpo1 = clausula1\n",
        "  cabeza2, cuerpo2 = clausula2\n",
        "  literal_eliminar = {cuerpo1[0]}\n",
        "\n",
        "  return [list(set(cabeza1 + cabeza2).difference(literal_eliminar)), list(set(cuerpo1 + cuerpo2).difference(literal_eliminar))]\n",
        "\n",
        "def algotirmo_sld(ob, clausulas_sld):\n",
        "\n",
        "  cabeza_ob, cuerpo_ob = ob\n",
        "\n",
        "  if not cabeza_ob and not cuerpo_ob:\n",
        "    return True\n",
        "\n",
        "  elif not cuerpo_ob:\n",
        "    return False\n",
        "\n",
        "  clausulas_p = []\n",
        "  for clausula_kb in clausulas_sld:\n",
        "    cabeza_kb, cuerpo_kb = clausula_kb\n",
        "    if cuerpo_ob[0] in cabeza_kb:\n",
        "      clausulas_p.append(clausula_kb)\n",
        "\n",
        "  if not clausulas_p:\n",
        "    return False\n",
        "\n",
        "  for clausula_p in clausulas_p:\n",
        "    nuevo_ob = resolver(ob, clausula_p)\n",
        "\n",
        "    if algotirmo_sld(nuevo_ob, clausulas_sld):\n",
        "      return True\n",
        "\n",
        "  return False\n",
        "\n",
        "\n",
        "def resolucion(lista):\n",
        "  clausulas_sld = conversor_ch(lista)\n",
        "\n",
        "  clausulas_obs = []\n",
        "  if clausulas_sld == []:\n",
        "    return True\n",
        "\n",
        "  for clausula in clausulas_sld:\n",
        "    if clausula[0] == []:\n",
        "      clausulas_obs.append(clausula)\n",
        "\n",
        "  if len(clausulas_obs) == 0:\n",
        "    return False\n",
        "\n",
        "  for clausula_ob in clausulas_obs:\n",
        "    resultado = algotirmo_sld(clausula_ob, clausulas_sld)\n",
        "    if resultado == True:\n",
        "      return True\n",
        "    else:\n",
        "      continue\n",
        "\n",
        "  return False\n",
        "\n",
        "\n",
        "clausula1 = {'p', '!u'}\n",
        "clausula2 = {'p'}\n",
        "clausula3 = {'t'}\n",
        "clausula4 = {'q', '!s'}\n",
        "clausula5 = {'s', '!r'}\n",
        "clausula6 = {'r', '!p'}\n",
        "clausula7 = {'!p', '!q', '!t'}\n",
        "\n",
        "resolucion([clausula1, clausula2, clausula3, clausula4, clausula5, clausula6, clausula7])\n",
        "\n",
        "c1 = {'!t', 's'}\n",
        "c2 = {'!p', 'q'}\n",
        "c3 = {'!p', '!q', 'r'}\n",
        "c4 = {'s', '!r'}\n",
        "c5 = {'p'}\n",
        "c6 = {'!s'}\n",
        "resolucion([c1, c2, c3, c4, c5, c6])"
      ],
      "metadata": {
        "colab": {
          "base_uri": "https://localhost:8080/"
        },
        "id": "RQCpJeWkpR5R",
        "outputId": "f41874ee-3688-4c9e-a4e5-907dbfa27dee"
      },
      "execution_count": 10,
      "outputs": [
        {
          "output_type": "execute_result",
          "data": {
            "text/plain": [
              "True"
            ]
          },
          "metadata": {},
          "execution_count": 10
        }
      ]
    }
  ]
}